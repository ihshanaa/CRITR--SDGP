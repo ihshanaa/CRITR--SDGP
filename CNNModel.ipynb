{
 "cells": [
  {
   "cell_type": "code",
   "execution_count": 1,
   "id": "969c976b",
   "metadata": {
    "pycharm": {
     "name": "#%%\n"
    }
   },
   "outputs": [
    {
     "name": "stdout",
     "output_type": "stream",
     "text": [
      "2.8.0\n",
      "2.8.0\n"
     ]
    }
   ],
   "source": [
    "import tensorflow\n",
    "import keras\n",
    "\n",
    "print(keras.__version__)\n",
    "print(tensorflow.__version__)"
   ]
  },
  {
   "cell_type": "code",
   "execution_count": 2,
   "id": "a7973a5e",
   "metadata": {
    "pycharm": {
     "name": "#%%\n"
    }
   },
   "outputs": [],
   "source": [
    "## Importing the libraries\n",
    "import os\n",
    "import random\n",
    "import tensorflow as tf\n",
    "import numpy as np\n",
    "import matplotlib.pyplot as plt\n",
    "from keras.preprocessing.image import ImageDataGenerator\n",
    "from tensorflow.keras import layers\n",
    "from keras.models import Sequential\n",
    "\n",
    "# Set random seeds\n",
    "\n",
    "os.environ['TF_CUDNN_DETERMINISTIC'] = '1'\n",
    "random.seed(hash(\"setting random seeds\") % 2 ** 32 - 1)\n",
    "np.random.seed(hash(\"improves reproducibility\") % 2 ** 32 - 1)\n",
    "tf.random.set_seed(hash(\"by removing stochasticity\") % 2 ** 32 - 1)\n",
    "\n"
   ]
  },
  {
   "cell_type": "code",
   "execution_count": 3,
   "id": "fa5ee5a9",
   "metadata": {
    "pycharm": {
     "name": "#%%\n"
    }
   },
   "outputs": [
    {
     "name": "stderr",
     "output_type": "stream",
     "text": [
      "\u001b[34m\u001b[1mwandb\u001b[0m: Currently logged in as: \u001b[33mtequilatech\u001b[0m (use `wandb login --relogin` to force relogin)\n"
     ]
    },
    {
     "data": {
      "text/plain": [
       "True"
      ]
     },
     "execution_count": 3,
     "metadata": {},
     "output_type": "execute_result"
    }
   ],
   "source": [
    "!pip install wandb -qqq\n",
    "import wandb\n",
    "from wandb.keras import WandbCallback\n",
    "wandb.login()"
   ]
  },
  {
   "cell_type": "code",
   "execution_count": 4,
   "id": "cb6a3515",
   "metadata": {
    "pycharm": {
     "name": "#%%\n"
    }
   },
   "outputs": [
    {
     "name": "stdout",
     "output_type": "stream",
     "text": [
      "Found 21612 images belonging to 249 classes.\n"
     ]
    }
   ],
   "source": [
    "## Data Preprocessing\n",
    "\n",
    "# Preprocessing the training dataset\n",
    "\n",
    "train_datagen = ImageDataGenerator(\n",
    "    rescale=1. / 255,\n",
    "    rotation_range=40,\n",
    "    shear_range=0.2,\n",
    "    zoom_range=0.2,\n",
    "    width_shift_range=0.2,\n",
    "    height_shift_range=0.2,\n",
    "    horizontal_flip=True,\n",
    "    fill_mode='nearest')\n",
    "\n",
    "training_set = train_datagen.flow_from_directory(\n",
    "    'dataset/train',\n",
    "    target_size=(64, 64),\n",
    "    batch_size=32,\n",
    "    class_mode='binary')"
   ]
  },
  {
   "cell_type": "code",
   "execution_count": 5,
   "id": "3f68fc34",
   "metadata": {
    "pycharm": {
     "name": "#%%\n"
    }
   },
   "outputs": [
    {
     "name": "stdout",
     "output_type": "stream",
     "text": [
      "Found 5511 images belonging to 252 classes.\n"
     ]
    }
   ],
   "source": [
    "#Preprocessing the test dataset\n",
    "\n",
    "test_datagen = ImageDataGenerator(rescale=1. / 255)\n",
    "test_set = test_datagen.flow_from_directory('dataset/test',\n",
    "                                            target_size=(64, 64),\n",
    "                                            batch_size=32,\n",
    "                                            class_mode='binary')"
   ]
  },
  {
   "cell_type": "code",
   "execution_count": 6,
   "id": "079f8101",
   "metadata": {
    "pycharm": {
     "name": "#%%\n"
    }
   },
   "outputs": [],
   "source": [
    "## Building the CNN\n",
    "\n",
    "# Initializing the CNN\n",
    "\n",
    "cnn = tf.keras.models.Sequential()\n",
    "\n",
    "\n"
   ]
  },
  {
   "cell_type": "code",
   "execution_count": 7,
   "id": "6e281e4c",
   "metadata": {
    "pycharm": {
     "name": "#%%\n"
    }
   },
   "outputs": [],
   "source": [
    "# Convolution\n",
    "\n",
    "cnn.add(tf.keras.layers.Conv2D(filters=32, kernel_size=3, activation='relu', input_shape=[64, 64, 3]))"
   ]
  },
  {
   "cell_type": "code",
   "execution_count": 8,
   "id": "709aa964",
   "metadata": {
    "pycharm": {
     "name": "#%%\n"
    }
   },
   "outputs": [],
   "source": [
    "# Pooling\n",
    "\n",
    "cnn.add(tf.keras.layers.MaxPool2D(pool_size=2, strides=2))"
   ]
  },
  {
   "cell_type": "code",
   "execution_count": 9,
   "id": "ed69ee9f",
   "metadata": {
    "pycharm": {
     "name": "#%%\n"
    }
   },
   "outputs": [],
   "source": [
    "# Adding more convolutional layers\n",
    "\n",
    "cnn.add(tf.keras.layers.Conv2D(filters=32, kernel_size=3, activation='relu', padding='same'))\n",
    "\n",
    "cnn.add(tf.keras.layers.MaxPool2D(pool_size=2, strides=2, padding='same'))\n",
    "\n",
    "cnn.add(tf.keras.layers.Conv2D(filters=32, kernel_size=3, activation='relu', padding='same'))\n",
    "\n",
    "cnn.add(tf.keras.layers.MaxPool2D(pool_size=2, strides=2, padding='same'))\n",
    "\n",
    "cnn.add(tf.keras.layers.Conv2D(filters=32, kernel_size=3, activation='relu', padding='same'))\n",
    "\n",
    "cnn.add(tf.keras.layers.MaxPool2D(pool_size=2, strides=2, padding='same'))\n",
    "\n",
    "# cnn.add(tf.keras.layers.Conv2D(filters=32, kernel_size=3, activation='relu', padding='same'))\n",
    "\n",
    "# cnn.add(tf.keras.layers.MaxPool2D(pool_size=2, strides=2, padding='same'))\n",
    "\n",
    "# cnn.add(tf.keras.layers.Conv2D(filters=32, kernel_size=3, activation='relu', padding='same'))\n",
    "\n",
    "# cnn.add(tf.keras.layers.MaxPool2D(pool_size=2, strides=2, padding='same'))\n",
    "\n",
    "# cnn.add(tf.keras.layers.Conv2D(filters=32, kernel_size=3, activation='relu', padding='same'))\n",
    "\n",
    "# cnn.add(tf.keras.layers.MaxPool2D(pool_size=2, strides=2, padding='same'))\n",
    "\n",
    "cnn.add(tf.keras.layers.Dropout(0.2))\n",
    "\n"
   ]
  },
  {
   "cell_type": "code",
   "execution_count": 10,
   "id": "21521339",
   "metadata": {
    "pycharm": {
     "name": "#%%\n"
    }
   },
   "outputs": [],
   "source": [
    "cnn.add(tf.keras.layers.Flatten())\n",
    "\n",
    "cnn.add(layers.Dropout(0.2))"
   ]
  },
  {
   "cell_type": "code",
   "execution_count": 11,
   "id": "bbff6a9d",
   "metadata": {
    "pycharm": {
     "name": "#%%\n"
    }
   },
   "outputs": [],
   "source": [
    "cnn.add(tf.keras.layers.Dense(units=128, activation='relu'))\n",
    "\n",
    "cnn.add(layers.Dropout(0.2))"
   ]
  },
  {
   "cell_type": "code",
   "execution_count": 12,
   "id": "33772f71",
   "metadata": {
    "pycharm": {
     "name": "#%%\n"
    }
   },
   "outputs": [],
   "source": [
    "cnn.add(tf.keras.layers.Dense(units=300, activation='softmax'))"
   ]
  },
  {
   "cell_type": "code",
   "execution_count": 13,
   "id": "af610f08",
   "metadata": {
    "pycharm": {
     "name": "#%%\n"
    }
   },
   "outputs": [
    {
     "data": {
      "text/html": [
       "Tracking run with wandb version 0.12.15"
      ],
      "text/plain": [
       "<IPython.core.display.HTML object>"
      ]
     },
     "metadata": {},
     "output_type": "display_data"
    },
    {
     "data": {
      "text/html": [
       "Run data is saved locally in <code>C:\\Users\\Shanel\\Desktop\\CNNModel\\wandb\\run-20220422_155637-2he4xatk</code>"
      ],
      "text/plain": [
       "<IPython.core.display.HTML object>"
      ]
     },
     "metadata": {},
     "output_type": "display_data"
    },
    {
     "data": {
      "text/html": [
       "Syncing run <strong><a href=\"https://wandb.ai/tequilatech/test-project/runs/2he4xatk\" target=\"_blank\">misty-sea-8</a></strong> to <a href=\"https://wandb.ai/tequilatech/test-project\" target=\"_blank\">Weights & Biases</a> (<a href=\"https://wandb.me/run\" target=\"_blank\">docs</a>)<br/>"
      ],
      "text/plain": [
       "<IPython.core.display.HTML object>"
      ]
     },
     "metadata": {},
     "output_type": "display_data"
    }
   ],
   "source": [
    "# Initializing wandb with the project name\n",
    "run = wandb.init(project=\"test-project\",\n",
    "                 config= { # and include hyperparameters and metadata\n",
    "                     \"learning_rate\":0.1,\n",
    "                     \"epochs\":60,\n",
    "                     \"batch_size\":32,\n",
    "                     \"loss_function\":\"sparse_categorical_crossentropy\",\n",
    "                     \"architecture\":\"CNN\"\n",
    "                 })\n",
    "config = wandb.config\n",
    "tf.keras.backend.clear_session()\n",
    "optimizer = tf.keras.optimizers.Adam(config.learning_rate)"
   ]
  },
  {
   "cell_type": "code",
   "execution_count": 14,
   "id": "c551f4f5",
   "metadata": {
    "pycharm": {
     "name": "#%%\n"
    }
   },
   "outputs": [],
   "source": [
    "cnn.compile(optimizer, config.loss_function, metrics=['accuracy'])"
   ]
  },
  {
   "cell_type": "code",
   "execution_count": 15,
   "id": "224f16a0",
   "metadata": {
    "pycharm": {
     "name": "#%%\n"
    }
   },
   "outputs": [
    {
     "name": "stdout",
     "output_type": "stream",
     "text": [
      "Model: \"sequential\"\n",
      "_________________________________________________________________\n",
      " Layer (type)                Output Shape              Param #   \n",
      "=================================================================\n",
      " conv2d (Conv2D)             (None, 62, 62, 32)        896       \n",
      "                                                                 \n",
      " max_pooling2d (MaxPooling2D  (None, 31, 31, 32)       0         \n",
      " )                                                               \n",
      "                                                                 \n",
      " conv2d_1 (Conv2D)           (None, 31, 31, 32)        9248      \n",
      "                                                                 \n",
      " max_pooling2d_1 (MaxPooling  (None, 16, 16, 32)       0         \n",
      " 2D)                                                             \n",
      "                                                                 \n",
      " conv2d_2 (Conv2D)           (None, 16, 16, 32)        9248      \n",
      "                                                                 \n",
      " max_pooling2d_2 (MaxPooling  (None, 8, 8, 32)         0         \n",
      " 2D)                                                             \n",
      "                                                                 \n",
      " conv2d_3 (Conv2D)           (None, 8, 8, 32)          9248      \n",
      "                                                                 \n",
      " max_pooling2d_3 (MaxPooling  (None, 4, 4, 32)         0         \n",
      " 2D)                                                             \n",
      "                                                                 \n",
      " dropout (Dropout)           (None, 4, 4, 32)          0         \n",
      "                                                                 \n",
      " flatten (Flatten)           (None, 512)               0         \n",
      "                                                                 \n",
      " dropout_1 (Dropout)         (None, 512)               0         \n",
      "                                                                 \n",
      " dense (Dense)               (None, 128)               65664     \n",
      "                                                                 \n",
      " dropout_2 (Dropout)         (None, 128)               0         \n",
      "                                                                 \n",
      " dense_1 (Dense)             (None, 300)               38700     \n",
      "                                                                 \n",
      "=================================================================\n",
      "Total params: 133,004\n",
      "Trainable params: 133,004\n",
      "Non-trainable params: 0\n",
      "_________________________________________________________________\n"
     ]
    }
   ],
   "source": [
    "\n",
    "cnn.summary()"
   ]
  },
  {
   "cell_type": "code",
   "execution_count": 16,
   "id": "e850a98d",
   "metadata": {
    "pycharm": {
     "name": "#%%\n"
    }
   },
   "outputs": [
    {
     "name": "stdout",
     "output_type": "stream",
     "text": [
      "Epoch 1/60\n",
      "676/676 [==============================] - 108s 159ms/step - loss: 92.7203 - accuracy: 0.0047 - val_loss: 5.8304 - val_accuracy: 0.0044 - _timestamp: 1650623324.0000 - _runtime: 127.0000\n",
      "Epoch 2/60\n",
      "676/676 [==============================] - 112s 165ms/step - loss: 5.5830 - accuracy: 0.0050 - val_loss: 5.8519 - val_accuracy: 0.0044 - _timestamp: 1650623435.0000 - _runtime: 238.0000\n",
      "Epoch 3/60\n",
      "676/676 [==============================] - 97s 143ms/step - loss: 5.5794 - accuracy: 0.0051 - val_loss: 5.8871 - val_accuracy: 0.0034 - _timestamp: 1650623532.0000 - _runtime: 335.0000\n",
      "Epoch 4/60\n",
      "676/676 [==============================] - 137s 202ms/step - loss: 5.5800 - accuracy: 0.0042 - val_loss: 5.9042 - val_accuracy: 0.0040 - _timestamp: 1650623669.0000 - _runtime: 472.0000\n",
      "Epoch 5/60\n",
      "676/676 [==============================] - 123s 182ms/step - loss: 5.5834 - accuracy: 0.0060 - val_loss: 5.9168 - val_accuracy: 0.0045 - _timestamp: 1650623792.0000 - _runtime: 595.0000\n",
      "Epoch 6/60\n",
      "676/676 [==============================] - 133s 197ms/step - loss: 5.5835 - accuracy: 0.0050 - val_loss: 5.9375 - val_accuracy: 0.0045 - _timestamp: 1650623925.0000 - _runtime: 728.0000\n",
      "Epoch 7/60\n",
      "676/676 [==============================] - 101s 149ms/step - loss: 5.5817 - accuracy: 0.0045 - val_loss: 5.9554 - val_accuracy: 0.0045 - _timestamp: 1650624026.0000 - _runtime: 829.0000\n",
      "Epoch 8/60\n",
      "676/676 [==============================] - 145s 215ms/step - loss: 5.5822 - accuracy: 0.0050 - val_loss: 5.9657 - val_accuracy: 0.0045 - _timestamp: 1650624172.0000 - _runtime: 975.0000\n",
      "Epoch 9/60\n",
      "676/676 [==============================] - 108s 160ms/step - loss: 5.5837 - accuracy: 0.0046 - val_loss: 5.9745 - val_accuracy: 0.0045 - _timestamp: 1650624280.0000 - _runtime: 1083.0000\n",
      "Epoch 10/60\n",
      "676/676 [==============================] - 101s 149ms/step - loss: 5.5824 - accuracy: 0.0048 - val_loss: 5.9885 - val_accuracy: 0.0042 - _timestamp: 1650624381.0000 - _runtime: 1184.0000\n",
      "Epoch 11/60\n",
      "676/676 [==============================] - 103s 152ms/step - loss: 5.5839 - accuracy: 0.0051 - val_loss: 5.9930 - val_accuracy: 0.0040 - _timestamp: 1650624483.0000 - _runtime: 1286.0000\n",
      "Epoch 12/60\n",
      "676/676 [==============================] - 104s 154ms/step - loss: 5.5825 - accuracy: 0.0048 - val_loss: 6.0206 - val_accuracy: 0.0045 - _timestamp: 1650624587.0000 - _runtime: 1390.0000\n",
      "Epoch 13/60\n",
      "676/676 [==============================] - 103s 152ms/step - loss: 5.5842 - accuracy: 0.0048 - val_loss: 6.0244 - val_accuracy: 0.0044 - _timestamp: 1650624690.0000 - _runtime: 1493.0000\n",
      "Epoch 14/60\n",
      "676/676 [==============================] - 101s 149ms/step - loss: 5.5828 - accuracy: 0.0047 - val_loss: 6.0373 - val_accuracy: 0.0045 - _timestamp: 1650624791.0000 - _runtime: 1594.0000\n",
      "Epoch 15/60\n",
      "676/676 [==============================] - 98s 145ms/step - loss: 5.5820 - accuracy: 0.0053 - val_loss: 6.0512 - val_accuracy: 0.0044 - _timestamp: 1650624889.0000 - _runtime: 1692.0000\n",
      "Epoch 16/60\n",
      "676/676 [==============================] - 120s 177ms/step - loss: 5.5835 - accuracy: 0.0041 - val_loss: 6.0535 - val_accuracy: 0.0036 - _timestamp: 1650625009.0000 - _runtime: 1812.0000\n",
      "Epoch 17/60\n",
      "676/676 [==============================] - 112s 166ms/step - loss: 5.5808 - accuracy: 0.0052 - val_loss: 6.0826 - val_accuracy: 0.0047 - _timestamp: 1650625121.0000 - _runtime: 1924.0000\n",
      "Epoch 18/60\n",
      "676/676 [==============================] - 136s 202ms/step - loss: 5.5833 - accuracy: 0.0043 - val_loss: 6.0862 - val_accuracy: 0.0038 - _timestamp: 1650625257.0000 - _runtime: 2060.0000\n",
      "Epoch 19/60\n",
      "676/676 [==============================] - 105s 156ms/step - loss: 5.5804 - accuracy: 0.0054 - val_loss: 6.0991 - val_accuracy: 0.0045 - _timestamp: 1650625363.0000 - _runtime: 2166.0000\n",
      "Epoch 20/60\n",
      "676/676 [==============================] - 99s 146ms/step - loss: 5.5849 - accuracy: 0.0050 - val_loss: 6.1093 - val_accuracy: 0.0042 - _timestamp: 1650625462.0000 - _runtime: 2265.0000\n",
      "Epoch 21/60\n",
      "676/676 [==============================] - 95s 141ms/step - loss: 5.5820 - accuracy: 0.0050 - val_loss: 6.1171 - val_accuracy: 0.0040 - _timestamp: 1650625557.0000 - _runtime: 2360.0000\n",
      "Epoch 22/60\n",
      "676/676 [==============================] - 97s 143ms/step - loss: 5.5837 - accuracy: 0.0047 - val_loss: 6.1204 - val_accuracy: 0.0045 - _timestamp: 1650625653.0000 - _runtime: 2456.0000\n",
      "Epoch 23/60\n",
      "676/676 [==============================] - 97s 144ms/step - loss: 5.5800 - accuracy: 0.0053 - val_loss: 6.1329 - val_accuracy: 0.0040 - _timestamp: 1650625751.0000 - _runtime: 2554.0000\n",
      "Epoch 24/60\n",
      "676/676 [==============================] - 96s 143ms/step - loss: 5.5839 - accuracy: 0.0048 - val_loss: 6.1479 - val_accuracy: 0.0045 - _timestamp: 1650625847.0000 - _runtime: 2650.0000\n",
      "Epoch 25/60\n",
      "676/676 [==============================] - 98s 144ms/step - loss: 5.5792 - accuracy: 0.0045 - val_loss: 6.1611 - val_accuracy: 0.0034 - _timestamp: 1650625945.0000 - _runtime: 2748.0000\n",
      "Epoch 26/60\n",
      "676/676 [==============================] - 113s 166ms/step - loss: 5.5827 - accuracy: 0.0049 - val_loss: 6.1572 - val_accuracy: 0.0040 - _timestamp: 1650626057.0000 - _runtime: 2860.0000\n",
      "Epoch 27/60\n",
      "676/676 [==============================] - 98s 145ms/step - loss: 5.5838 - accuracy: 0.0041 - val_loss: 6.1693 - val_accuracy: 0.0044 - _timestamp: 1650626156.0000 - _runtime: 2959.0000\n",
      "Epoch 28/60\n",
      "676/676 [==============================] - 96s 143ms/step - loss: 5.5800 - accuracy: 0.0045 - val_loss: 6.1696 - val_accuracy: 0.0044 - _timestamp: 1650626252.0000 - _runtime: 3055.0000\n",
      "Epoch 29/60\n",
      "676/676 [==============================] - 98s 145ms/step - loss: 5.5811 - accuracy: 0.0044 - val_loss: 6.1930 - val_accuracy: 0.0045 - _timestamp: 1650626350.0000 - _runtime: 3153.0000\n",
      "Epoch 30/60\n",
      "676/676 [==============================] - 94s 138ms/step - loss: 5.5815 - accuracy: 0.0053 - val_loss: 6.1915 - val_accuracy: 0.0042 - _timestamp: 1650626444.0000 - _runtime: 3247.0000\n",
      "Epoch 31/60\n",
      "676/676 [==============================] - 97s 143ms/step - loss: 5.5822 - accuracy: 0.0045 - val_loss: 6.2001 - val_accuracy: 0.0047 - _timestamp: 1650626541.0000 - _runtime: 3344.0000\n",
      "Epoch 32/60\n",
      "676/676 [==============================] - 103s 152ms/step - loss: 5.5802 - accuracy: 0.0044 - val_loss: 6.2061 - val_accuracy: 0.0044 - _timestamp: 1650626644.0000 - _runtime: 3447.0000\n",
      "Epoch 33/60\n",
      "676/676 [==============================] - 97s 144ms/step - loss: 5.5823 - accuracy: 0.0040 - val_loss: 6.2058 - val_accuracy: 0.0047 - _timestamp: 1650626741.0000 - _runtime: 3544.0000\n",
      "Epoch 34/60\n",
      "676/676 [==============================] - 98s 145ms/step - loss: 5.5835 - accuracy: 0.0050 - val_loss: 6.2085 - val_accuracy: 0.0042 - _timestamp: 1650626839.0000 - _runtime: 3642.0000\n",
      "Epoch 35/60\n",
      "676/676 [==============================] - 97s 143ms/step - loss: 5.5838 - accuracy: 0.0047 - val_loss: 6.1977 - val_accuracy: 0.0044 - _timestamp: 1650626935.0000 - _runtime: 3738.0000\n",
      "Epoch 36/60\n",
      "676/676 [==============================] - 94s 140ms/step - loss: 5.5829 - accuracy: 0.0051 - val_loss: 6.2086 - val_accuracy: 0.0042 - _timestamp: 1650627030.0000 - _runtime: 3833.0000\n",
      "Epoch 37/60\n",
      "676/676 [==============================] - 98s 145ms/step - loss: 5.5811 - accuracy: 0.0044 - val_loss: 6.2161 - val_accuracy: 0.0042 - _timestamp: 1650627128.0000 - _runtime: 3931.0000\n",
      "Epoch 38/60\n",
      "676/676 [==============================] - 102s 152ms/step - loss: 5.5823 - accuracy: 0.0052 - val_loss: 6.2191 - val_accuracy: 0.0033 - _timestamp: 1650627231.0000 - _runtime: 4034.0000\n",
      "Epoch 39/60\n",
      "676/676 [==============================] - 97s 143ms/step - loss: 5.5816 - accuracy: 0.0054 - val_loss: 6.2231 - val_accuracy: 0.0034 - _timestamp: 1650627327.0000 - _runtime: 4130.0000\n",
      "Epoch 40/60\n",
      "676/676 [==============================] - 95s 140ms/step - loss: 5.5826 - accuracy: 0.0045 - val_loss: 6.2165 - val_accuracy: 0.0047 - _timestamp: 1650627422.0000 - _runtime: 4225.0000\n",
      "Epoch 41/60\n",
      "676/676 [==============================] - 98s 144ms/step - loss: 5.5844 - accuracy: 0.0045 - val_loss: 6.2189 - val_accuracy: 0.0045 - _timestamp: 1650627520.0000 - _runtime: 4323.0000\n",
      "Epoch 42/60\n"
     ]
    },
    {
     "name": "stdout",
     "output_type": "stream",
     "text": [
      "676/676 [==============================] - 102s 151ms/step - loss: 5.5818 - accuracy: 0.0048 - val_loss: 6.2260 - val_accuracy: 0.0040 - _timestamp: 1650627622.0000 - _runtime: 4425.0000\n",
      "Epoch 43/60\n",
      "676/676 [==============================] - 99s 147ms/step - loss: 5.5836 - accuracy: 0.0044 - val_loss: 6.2202 - val_accuracy: 0.0044 - _timestamp: 1650627721.0000 - _runtime: 4524.0000\n",
      "Epoch 44/60\n",
      "676/676 [==============================] - 105s 155ms/step - loss: 5.5796 - accuracy: 0.0055 - val_loss: 6.2268 - val_accuracy: 0.0044 - _timestamp: 1650627826.0000 - _runtime: 4629.0000\n",
      "Epoch 45/60\n",
      "676/676 [==============================] - 98s 145ms/step - loss: 5.5838 - accuracy: 0.0052 - val_loss: 6.2367 - val_accuracy: 0.0038 - _timestamp: 1650627924.0000 - _runtime: 4727.0000\n",
      "Epoch 46/60\n",
      "676/676 [==============================] - 102s 151ms/step - loss: 5.5849 - accuracy: 0.0044 - val_loss: 6.2357 - val_accuracy: 0.0045 - _timestamp: 1650628026.0000 - _runtime: 4829.0000\n",
      "Epoch 47/60\n",
      "676/676 [==============================] - 112s 166ms/step - loss: 5.5826 - accuracy: 0.0043 - val_loss: 6.2335 - val_accuracy: 0.0036 - _timestamp: 1650628138.0000 - _runtime: 4941.0000\n",
      "Epoch 48/60\n",
      "676/676 [==============================] - 116s 171ms/step - loss: 5.5816 - accuracy: 0.0048 - val_loss: 6.2426 - val_accuracy: 0.0045 - _timestamp: 1650628254.0000 - _runtime: 5057.0000\n",
      "Epoch 49/60\n",
      "676/676 [==============================] - 96s 141ms/step - loss: 5.5828 - accuracy: 0.0042 - val_loss: 6.2372 - val_accuracy: 0.0047 - _timestamp: 1650628350.0000 - _runtime: 5153.0000\n",
      "Epoch 50/60\n",
      "676/676 [==============================] - 108s 160ms/step - loss: 5.5819 - accuracy: 0.0048 - val_loss: 6.2341 - val_accuracy: 0.0045 - _timestamp: 1650628458.0000 - _runtime: 5261.0000\n",
      "Epoch 51/60\n",
      "676/676 [==============================] - 105s 156ms/step - loss: 5.5809 - accuracy: 0.0039 - val_loss: 6.2573 - val_accuracy: 0.0044 - _timestamp: 1650628564.0000 - _runtime: 5367.0000\n",
      "Epoch 52/60\n",
      "676/676 [==============================] - 99s 146ms/step - loss: 5.5828 - accuracy: 0.0043 - val_loss: 6.2360 - val_accuracy: 0.0044 - _timestamp: 1650628662.0000 - _runtime: 5465.0000\n",
      "Epoch 53/60\n",
      "676/676 [==============================] - 94s 139ms/step - loss: 5.5820 - accuracy: 0.0045 - val_loss: 6.2485 - val_accuracy: 0.0040 - _timestamp: 1650628756.0000 - _runtime: 5559.0000\n",
      "Epoch 54/60\n",
      "676/676 [==============================] - 105s 156ms/step - loss: 5.5806 - accuracy: 0.0048 - val_loss: 6.2516 - val_accuracy: 0.0045 - _timestamp: 1650628862.0000 - _runtime: 5665.0000\n",
      "Epoch 55/60\n",
      "676/676 [==============================] - 108s 160ms/step - loss: 5.5814 - accuracy: 0.0050 - val_loss: 6.2548 - val_accuracy: 0.0040 - _timestamp: 1650628970.0000 - _runtime: 5773.0000\n",
      "Epoch 56/60\n",
      "676/676 [==============================] - 122s 180ms/step - loss: 5.5816 - accuracy: 0.0049 - val_loss: 6.2492 - val_accuracy: 0.0045 - _timestamp: 1650629092.0000 - _runtime: 5895.0000\n",
      "Epoch 57/60\n",
      "676/676 [==============================] - 118s 175ms/step - loss: 5.5841 - accuracy: 0.0041 - val_loss: 6.2466 - val_accuracy: 0.0045 - _timestamp: 1650629210.0000 - _runtime: 6013.0000\n",
      "Epoch 58/60\n",
      "676/676 [==============================] - 111s 164ms/step - loss: 5.5819 - accuracy: 0.0045 - val_loss: 6.2554 - val_accuracy: 0.0045 - _timestamp: 1650629321.0000 - _runtime: 6124.0000\n",
      "Epoch 59/60\n",
      "676/676 [==============================] - 105s 155ms/step - loss: 5.5836 - accuracy: 0.0048 - val_loss: 6.2557 - val_accuracy: 0.0042 - _timestamp: 1650629426.0000 - _runtime: 6229.0000\n",
      "Epoch 60/60\n",
      "676/676 [==============================] - 95s 140ms/step - loss: 5.5827 - accuracy: 0.0057 - val_loss: 6.2456 - val_accuracy: 0.0044 - _timestamp: 1650629520.0000 - _runtime: 6323.0000\n"
     ]
    }
   ],
   "source": [
    "# Training the CNN model\n",
    "\n",
    "history = cnn.fit(x=training_set,\n",
    "                  validation_data=test_set,\n",
    "                  epochs=config.epochs,\n",
    "                  batch_size=config.batch_size,\n",
    "                  callbacks=[WandbCallback()]\n",
    "                 )"
   ]
  },
  {
   "cell_type": "code",
   "execution_count": 17,
   "id": "639a8e0d",
   "metadata": {
    "pycharm": {
     "name": "#%%\n"
    }
   },
   "outputs": [
    {
     "name": "stdout",
     "output_type": "stream",
     "text": [
      "dict_keys(['loss', 'accuracy', 'val_loss', 'val_accuracy', '_timestamp', '_runtime'])\n"
     ]
    }
   ],
   "source": [
    "print(history.history.keys())"
   ]
  },
  {
   "cell_type": "code",
   "execution_count": 18,
   "id": "81c16122",
   "metadata": {
    "pycharm": {
     "name": "#%%\n"
    }
   },
   "outputs": [
    {
     "data": {
      "text/html": [
       "Finishing last run (ID:2he4xatk) before initializing another..."
      ],
      "text/plain": [
       "<IPython.core.display.HTML object>"
      ]
     },
     "metadata": {},
     "output_type": "display_data"
    },
    {
     "data": {
      "text/html": [
       "Waiting for W&B process to finish... <strong style=\"color:green\">(success).</strong>"
      ],
      "text/plain": [
       "<IPython.core.display.HTML object>"
      ]
     },
     "metadata": {},
     "output_type": "display_data"
    },
    {
     "data": {
      "application/vnd.jupyter.widget-view+json": {
       "model_id": "",
       "version_major": 2,
       "version_minor": 0
      },
      "text/plain": [
       "VBox(children=(Label(value='1.588 MB of 1.588 MB uploaded (0.000 MB deduped)\\r'), FloatProgress(value=1.0, max…"
      ]
     },
     "metadata": {},
     "output_type": "display_data"
    },
    {
     "data": {
      "text/html": [
       "<style>\n",
       "    table.wandb td:nth-child(1) { padding: 0 10px; text-align: right }\n",
       "    .wandb-row { display: flex; flex-direction: row; flex-wrap: wrap; width: 100% }\n",
       "    .wandb-col { display: flex; flex-direction: column; flex-basis: 100%; flex: 1; padding: 10px; }\n",
       "    </style>\n",
       "<div class=\"wandb-row\"><div class=\"wandb-col\"><h3>Run history:</h3><br/><table class=\"wandb\"><tr><td>accuracy</td><td>▃▄▁█▃▄▄▅▃▃▁▅▆▅▃▅▃▄▃▂▃▂▄▃▂▅▃▃▂▆▂▂▁▄▂▃▄▄▃▇</td></tr><tr><td>epoch</td><td>▁▁▁▁▂▂▂▂▂▃▃▃▃▃▃▄▄▄▄▄▅▅▅▅▅▅▆▆▆▆▆▆▇▇▇▇▇███</td></tr><tr><td>loss</td><td>█▁▁▁▁▁▁▁▁▁▁▁▁▁▁▁▁▁▁▁▁▁▁▁▁▁▁▁▁▁▁▁▁▁▁▁▁▁▁▁</td></tr><tr><td>val_accuracy</td><td>▆▆▅▇▇▇▅▅▆▇▃█▇▅▇▅▂▅▆▇█▆▅▆▅▁█▇▆▆▇▃█▇▆▅▅▇▇▆</td></tr><tr><td>val_loss</td><td>▁▁▂▂▃▃▄▄▄▄▅▅▅▆▆▆▆▆▇▇▇▇▇▇▇▇▇▇▇███████████</td></tr></table><br/></div><div class=\"wandb-col\"><h3>Run summary:</h3><br/><table class=\"wandb\"><tr><td>accuracy</td><td>0.00569</td></tr><tr><td>best_epoch</td><td>0</td></tr><tr><td>best_val_loss</td><td>5.83043</td></tr><tr><td>epoch</td><td>59</td></tr><tr><td>loss</td><td>5.58274</td></tr><tr><td>val_accuracy</td><td>0.00435</td></tr><tr><td>val_loss</td><td>6.24559</td></tr></table><br/></div></div>"
      ],
      "text/plain": [
       "<IPython.core.display.HTML object>"
      ]
     },
     "metadata": {},
     "output_type": "display_data"
    },
    {
     "data": {
      "text/html": [
       "Synced <strong style=\"color:#cdcd00\">misty-sea-8</strong>: <a href=\"https://wandb.ai/tequilatech/test-project/runs/2he4xatk\" target=\"_blank\">https://wandb.ai/tequilatech/test-project/runs/2he4xatk</a><br/>Synced 6 W&B file(s), 1 media file(s), 0 artifact file(s) and 1 other file(s)"
      ],
      "text/plain": [
       "<IPython.core.display.HTML object>"
      ]
     },
     "metadata": {},
     "output_type": "display_data"
    },
    {
     "data": {
      "text/html": [
       "Find logs at: <code>.\\wandb\\run-20220422_155637-2he4xatk\\logs</code>"
      ],
      "text/plain": [
       "<IPython.core.display.HTML object>"
      ]
     },
     "metadata": {},
     "output_type": "display_data"
    },
    {
     "data": {
      "text/html": [
       "Successfully finished last run (ID:2he4xatk). Initializing new run:<br/>"
      ],
      "text/plain": [
       "<IPython.core.display.HTML object>"
      ]
     },
     "metadata": {},
     "output_type": "display_data"
    },
    {
     "data": {
      "text/html": [
       "Tracking run with wandb version 0.12.15"
      ],
      "text/plain": [
       "<IPython.core.display.HTML object>"
      ]
     },
     "metadata": {},
     "output_type": "display_data"
    },
    {
     "data": {
      "text/html": [
       "Run data is saved locally in <code>C:\\Users\\Shanel\\Desktop\\CNNModel\\wandb\\run-20220422_174200-29gnbq4d</code>"
      ],
      "text/plain": [
       "<IPython.core.display.HTML object>"
      ]
     },
     "metadata": {},
     "output_type": "display_data"
    },
    {
     "data": {
      "text/html": [
       "Syncing run <strong><a href=\"https://wandb.ai/tequilatech/CRITR/runs/29gnbq4d\" target=\"_blank\">eternal-serenity-6</a></strong> to <a href=\"https://wandb.ai/tequilatech/CRITR\" target=\"_blank\">Weights & Biases</a> (<a href=\"https://wandb.me/run\" target=\"_blank\">docs</a>)<br/>"
      ],
      "text/plain": [
       "<IPython.core.display.HTML object>"
      ]
     },
     "metadata": {},
     "output_type": "display_data"
    },
    {
     "name": "stdout",
     "output_type": "stream",
     "text": [
      "Model: \"sequential\"\n",
      "_________________________________________________________________\n",
      " Layer (type)                Output Shape              Param #   \n",
      "=================================================================\n",
      " conv2d (Conv2D)             (None, 62, 62, 32)        896       \n",
      "                                                                 \n",
      " max_pooling2d (MaxPooling2D  (None, 31, 31, 32)       0         \n",
      " )                                                               \n",
      "                                                                 \n",
      " conv2d_1 (Conv2D)           (None, 31, 31, 32)        9248      \n",
      "                                                                 \n",
      " max_pooling2d_1 (MaxPooling  (None, 16, 16, 32)       0         \n",
      " 2D)                                                             \n",
      "                                                                 \n",
      " conv2d_2 (Conv2D)           (None, 16, 16, 32)        9248      \n",
      "                                                                 \n",
      " max_pooling2d_2 (MaxPooling  (None, 8, 8, 32)         0         \n",
      " 2D)                                                             \n",
      "                                                                 \n",
      " conv2d_3 (Conv2D)           (None, 8, 8, 32)          9248      \n",
      "                                                                 \n",
      " max_pooling2d_3 (MaxPooling  (None, 4, 4, 32)         0         \n",
      " 2D)                                                             \n",
      "                                                                 \n",
      " dropout (Dropout)           (None, 4, 4, 32)          0         \n",
      "                                                                 \n",
      " flatten (Flatten)           (None, 512)               0         \n",
      "                                                                 \n",
      " dropout_1 (Dropout)         (None, 512)               0         \n",
      "                                                                 \n",
      " dense (Dense)               (None, 128)               65664     \n",
      "                                                                 \n",
      " dropout_2 (Dropout)         (None, 128)               0         \n",
      "                                                                 \n",
      " dense_1 (Dense)             (None, 300)               38700     \n",
      "                                                                 \n",
      "=================================================================\n",
      "Total params: 133,004\n",
      "Trainable params: 133,004\n",
      "Non-trainable params: 0\n",
      "_________________________________________________________________\n"
     ]
    }
   ],
   "source": [
    "# Log Predictions on test data\n",
    "\n",
    "run = wandb.init(project=\"CRITR\",\n",
    "                 config={\n",
    "                     \"learning_rate\": 0.001,\n",
    "                     \"epochs\":5,\n",
    "                     \"batch_size\": 32,\n",
    "                     \"loss_function\": \"sparse_categorical_crossentropy\",\n",
    "                     \"architecture\": \"CNN\", \n",
    "                 })\n",
    "config = wandb.config\n",
    "\n",
    "# Initialize the model\n",
    "tf.keras.backend.clear_session()\n",
    "cnn.summary()\n",
    "optimizer = tf.keras.optimizers.Adam(config.learning_rate)\n",
    "cnn.compile(optimizer, config.loss_function, metrics=['accuracy'])\n"
   ]
  },
  {
   "cell_type": "code",
   "execution_count": 21,
   "id": "cdfb53c8",
   "metadata": {
    "pycharm": {
     "name": "#%%\n"
    }
   },
   "outputs": [
    {
     "data": {
      "image/png": "[encoded data removed]",
      "text/plain": [
       "<Figure size 432x288 with 1 Axes>"
      ]
     },
     "metadata": {
      "needs_background": "light"
     },
     "output_type": "display_data"
    }
   ],
   "source": [
    "# Plotting the graph of the Training loss vs Validation over the number of epochs\n",
    "\n",
    "plt.plot(history.history['loss'])\n",
    "plt.plot(history.history['val_loss'])\n",
    "plt.title('model loss')\n",
    "plt.ylabel('loss')\n",
    "plt.xlabel('epoch')\n",
    "plt.legend(['train', 'test'], loc='upper left')\n",
    "plt.show()"
   ]
  },
  {
   "cell_type": "code",
   "execution_count": 22,
   "id": "9c6ce623",
   "metadata": {
    "pycharm": {
     "name": "#%%\n"
    }
   },
   "outputs": [
    {
     "data": {
      "image/png": "[encoded data removed]",
      "text/plain": [
       "<Figure size 432x288 with 1 Axes>"
      ]
     },
     "metadata": {
      "needs_background": "light"
     },
     "output_type": "display_data"
    }
   ],
   "source": [
    "# Plotting the graph of training accuracy vs Validation accuracy over a number of epochs\n",
    "\n",
    "plt.plot(history.history['accuracy'])\n",
    "plt.plot(history.history['val_accuracy'])\n",
    "plt.title('model accuracy')\n",
    "plt.ylabel('accuracy')\n",
    "plt.xlabel('epoch')\n",
    "plt.legend(['train', 'test'], loc='upper left')\n",
    "plt.show()"
   ]
  }
 ],
 "metadata": {
  "kernelspec": {
   "display_name": "Python 3 (ipykernel)",
   "language": "python",
   "name": "python3"
  },
  "language_info": {
   "codemirror_mode": {
    "name": "ipython",
    "version": 3
   },
   "file_extension": ".py",
   "mimetype": "text/x-python",
   "name": "python",
   "nbconvert_exporter": "python",
   "pygments_lexer": "ipython3",
   "version": "3.9.7"
  }
 },
 "nbformat": 4,
 "nbformat_minor": 5
}
