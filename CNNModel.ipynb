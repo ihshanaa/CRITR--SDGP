{
 "cells": [
  {
   "cell_type": "code",
   "execution_count": 76,
   "id": "868cc5f7",
   "metadata": {
    "pycharm": {
     "name": "#%%\n"
    }
   },
   "outputs": [],
   "source": [
    "## Importing the libraries\n",
    "import os\n",
    "import random\n",
    "import tensorflow as tf\n",
    "import numpy as np\n",
    "import matplotlib.pyplot as plt\n",
    "from keras.preprocessing.image import ImageDataGenerator\n",
    "from tensorflow.keras import layers\n",
    "from keras.models import Sequential\n",
    "\n",
    "# Set random seeds\n",
    "\n",
    "os.environ['TF_CUDNN_DETERMINISTIC'] = '1'\n",
    "random.seed(hash(\"setting random seeds\") % 2 ** 32 - 1)\n",
    "np.random.seed(hash(\"improves reproducibility\") % 2 ** 32 - 1)\n",
    "tf.random.set_seed(hash(\"by removing stochasticity\") % 2 ** 32 - 1)\n",
    "\n"
   ]
  },
  {
   "cell_type": "code",
   "execution_count": null,
   "outputs": [],
   "source": [
    "# Installing W & B and login\n",
    "!pip install wandb -qqq\n",
    "import wandb\n",
    "wandb.login()"
   ],
   "metadata": {
    "collapsed": false,
    "pycharm": {
     "name": "#%%\n",
     "is_executing": true
    }
   }
  },
  {
   "cell_type": "code",
   "execution_count": 39,
   "id": "8bcef6d0",
   "metadata": {
    "pycharm": {
     "name": "#%%\n"
    }
   },
   "outputs": [
    {
     "name": "stdout",
     "output_type": "stream",
     "text": [
      "Found 21612 images belonging to 249 classes.\n"
     ]
    }
   ],
   "source": [
    "## Data Preprocessing\n",
    "\n",
    "# Preprocessing the training set\n",
    "\n",
    "train_datagen = ImageDataGenerator(\n",
    "    rescale=1. / 255,\n",
    "    rotation_range=40,\n",
    "    shear_range=0.2,\n",
    "    zoom_range=0.2,\n",
    "    width_shift_range=0.2,\n",
    "    height_shift_range=0.2,\n",
    "    horizontal_flip=True,\n",
    "    fill_mode='nearest')\n",
    "\n",
    "training_set = train_datagen.flow_from_directory(\n",
    "    'dataset/train',\n",
    "    target_size=(64, 64),\n",
    "    batch_size=32,\n",
    "    class_mode='binary')"
   ]
  },
  {
   "cell_type": "code",
   "execution_count": 40,
   "id": "8b2521f0",
   "metadata": {
    "pycharm": {
     "name": "#%%\n"
    }
   },
   "outputs": [
    {
     "name": "stdout",
     "output_type": "stream",
     "text": [
      "Found 5511 images belonging to 252 classes.\n"
     ]
    }
   ],
   "source": [
    "#Preprocessing the test set\n",
    "\n",
    "test_datagen = ImageDataGenerator(rescale=1. / 255)\n",
    "test_set = test_datagen.flow_from_directory('dataset/test',\n",
    "                                            target_size=(64, 64),\n",
    "                                            batch_size=32,\n",
    "                                            class_mode='binary')"
   ]
  },
  {
   "cell_type": "code",
   "execution_count": 41,
   "id": "468ec9b2",
   "metadata": {
    "pycharm": {
     "name": "#%%\n"
    }
   },
   "outputs": [],
   "source": [
    "## Building the CNN\n",
    "\n",
    "# Initializing the CNN\n",
    "\n",
    "cnn = tf.keras.models.Sequential()\n",
    "\n",
    "\n"
   ]
  },
  {
   "cell_type": "code",
   "execution_count": 42,
   "id": "5255d5e1",
   "metadata": {
    "pycharm": {
     "name": "#%%\n"
    }
   },
   "outputs": [],
   "source": [
    "# Convolution\n",
    "\n",
    "cnn.add(tf.keras.layers.Conv2D(filters=32, kernel_size=3, activation='relu', input_shape=[64, 64, 3]))"
   ]
  },
  {
   "cell_type": "code",
   "execution_count": 43,
   "id": "7521cb37",
   "metadata": {
    "pycharm": {
     "name": "#%%\n"
    }
   },
   "outputs": [],
   "source": [
    "# Pooling\n",
    "\n",
    "cnn.add(tf.keras.layers.MaxPool2D(pool_size=2, strides=2))"
   ]
  },
  {
   "cell_type": "code",
   "execution_count": 44,
   "id": "adc06bc0",
   "metadata": {
    "pycharm": {
     "name": "#%%\n"
    }
   },
   "outputs": [],
   "source": [
    "# Adding more convolutional layers\n",
    "\n",
    "cnn.add(tf.keras.layers.Conv2D(filters=32, kernel_size=3, activation='relu'))\n",
    "\n",
    "cnn.add(tf.keras.layers.MaxPool2D(pool_size=2, strides=2))\n",
    "\n",
    "cnn.add(tf.keras.layers.Conv2D(filters=32, kernel_size=3, activation='relu'))\n",
    "\n",
    "cnn.add(tf.keras.layers.MaxPool2D(pool_size=2, strides=2))\n",
    "\n",
    "cnn.add(tf.keras.layers.Conv2D(filters=32, kernel_size=3, activation='relu'))\n",
    "\n",
    "cnn.add(tf.keras.layers.MaxPool2D(pool_size=2, strides=2))\n",
    "\n",
    "\n",
    "\n"
   ]
  },
  {
   "cell_type": "code",
   "execution_count": 45,
   "id": "15c84951",
   "metadata": {
    "pycharm": {
     "name": "#%%\n"
    }
   },
   "outputs": [],
   "source": [
    "data_augmentation = tf.keras.Sequential([\n",
    "    layers.RandomFlip(\"horizontal_and_vertical\"),\n",
    "    layers.RandomRotation(0.2),\n",
    "    layers.RandomZoom(0.1),\n",
    "])\n",
    "\n",
    "\n",
    "\n"
   ]
  },
  {
   "cell_type": "code",
   "execution_count": 46,
   "id": "72e84032",
   "metadata": {
    "pycharm": {
     "name": "#%%\n"
    }
   },
   "outputs": [],
   "source": [
    "model = Sequential([\n",
    "    data_augmentation,\n",
    "    layers.Conv2D(32, 3, padding='same', activation='relu'),\n",
    "    layers.MaxPooling2D(),\n",
    "    layers.Conv2D(32, 3, padding='same', activation='relu'),\n",
    "    layers.MaxPooling2D(),\n",
    "    layers.Conv2D(32, 3, padding='same', activation='relu'),\n",
    "    layers.MaxPooling2D(),\n",
    "    layers.Dropout(0.2),\n",
    "    layers.Flatten(),\n",
    "    layers.Dense(128, activation='relu'),\n",
    "    layers.Dense(1, activation='relu')\n",
    "])\n"
   ]
  },
  {
   "cell_type": "code",
   "execution_count": 47,
   "id": "e098a2cf",
   "metadata": {
    "pycharm": {
     "name": "#%%\n"
    }
   },
   "outputs": [],
   "source": [
    "cnn.add(tf.keras.layers.Flatten())\n",
    "\n",
    "cnn.add(layers.Dropout(0.2))"
   ]
  },
  {
   "cell_type": "code",
   "execution_count": 48,
   "id": "812e0827",
   "metadata": {
    "pycharm": {
     "name": "#%%\n"
    }
   },
   "outputs": [],
   "source": [
    "cnn.add(tf.keras.layers.Dense(units=128, activation='relu'))\n",
    "\n",
    "cnn.add(layers.Dropout(0.2))"
   ]
  },
  {
   "cell_type": "code",
   "execution_count": 49,
   "outputs": [],
   "source": [
    "cnn.add(tf.keras.layers.Dense(units=300, activation='softmax'))"
   ],
   "metadata": {
    "collapsed": false,
    "pycharm": {
     "name": "#%%\n"
    }
   }
  },
  {
   "cell_type": "code",
   "execution_count": 50,
   "outputs": [
    {
     "name": "stdout",
     "output_type": "stream",
     "text": [
      "Model: \"sequential_6\"\n",
      "_________________________________________________________________\n",
      " Layer (type)                Output Shape              Param #   \n",
      "=================================================================\n",
      " conv2d_14 (Conv2D)          (None, 62, 62, 32)        896       \n",
      "                                                                 \n",
      " max_pooling2d_14 (MaxPoolin  (None, 31, 31, 32)       0         \n",
      " g2D)                                                            \n",
      "                                                                 \n",
      " conv2d_15 (Conv2D)          (None, 29, 29, 32)        9248      \n",
      "                                                                 \n",
      " max_pooling2d_15 (MaxPoolin  (None, 14, 14, 32)       0         \n",
      " g2D)                                                            \n",
      "                                                                 \n",
      " conv2d_16 (Conv2D)          (None, 12, 12, 32)        9248      \n",
      "                                                                 \n",
      " max_pooling2d_16 (MaxPoolin  (None, 6, 6, 32)         0         \n",
      " g2D)                                                            \n",
      "                                                                 \n",
      " conv2d_17 (Conv2D)          (None, 4, 4, 32)          9248      \n",
      "                                                                 \n",
      " max_pooling2d_17 (MaxPoolin  (None, 2, 2, 32)         0         \n",
      " g2D)                                                            \n",
      "                                                                 \n",
      " flatten_5 (Flatten)         (None, 128)               0         \n",
      "                                                                 \n",
      " dropout_7 (Dropout)         (None, 128)               0         \n",
      "                                                                 \n",
      " dense_10 (Dense)            (None, 128)               16512     \n",
      "                                                                 \n",
      " dropout_8 (Dropout)         (None, 128)               0         \n",
      "                                                                 \n",
      " dense_11 (Dense)            (None, 300)               38700     \n",
      "                                                                 \n",
      "=================================================================\n",
      "Total params: 83,852\n",
      "Trainable params: 83,852\n",
      "Non-trainable params: 0\n",
      "_________________________________________________________________\n"
     ]
    }
   ],
   "source": [
    "cnn.summary()"
   ],
   "metadata": {
    "collapsed": false,
    "pycharm": {
     "name": "#%%\n"
    }
   }
  },
  {
   "cell_type": "code",
   "execution_count": 51,
   "outputs": [],
   "source": [
    "cnn.compile(optimizer='adam', loss='sparse_categorical_crossentropy', metrics=['accuracy'])"
   ],
   "metadata": {
    "collapsed": false,
    "pycharm": {
     "name": "#%%\n"
    }
   }
  },
  {
   "cell_type": "code",
   "execution_count": 52,
   "outputs": [],
   "source": [
    "# from keras import callbacks\n",
    "# earlystopping = callbacks.EarlyStopping(monitor=\"val_loss\",\n",
    "#                                         mode=\"min\",\n",
    "#                                         patience=5,\n",
    "#                                         restore_best_weights=True)"
   ],
   "metadata": {
    "collapsed": false,
    "pycharm": {
     "name": "#%%\n"
    }
   }
  },
  {
   "cell_type": "code",
   "execution_count": 53,
   "id": "c7457a41",
   "metadata": {
    "scrolled": true,
    "pycharm": {
     "name": "#%%\n"
    }
   },
   "outputs": [
    {
     "name": "stdout",
     "output_type": "stream",
     "text": [
      "Epoch 1/60\n",
      "WARNING:tensorflow:AutoGraph could not transform <function Model.make_train_function.<locals>.train_function at 0x000001A3BCAEC700> and will run it as-is.\n",
      "Please report this to the TensorFlow team. When filing the bug, set the verbosity to 10 (on Linux, `export AUTOGRAPH_VERBOSITY=10`) and attach the full output.\n",
      "Cause: closure mismatch, requested ('self', 'step_function'), but source function had ()\n",
      "To silence this warning, decorate the function with @tf.autograph.experimental.do_not_convert\n",
      "WARNING: AutoGraph could not transform <function Model.make_train_function.<locals>.train_function at 0x000001A3BCAEC700> and will run it as-is.\n",
      "Please report this to the TensorFlow team. When filing the bug, set the verbosity to 10 (on Linux, `export AUTOGRAPH_VERBOSITY=10`) and attach the full output.\n",
      "Cause: closure mismatch, requested ('self', 'step_function'), but source function had ()\n",
      "To silence this warning, decorate the function with @tf.autograph.experimental.do_not_convert\n",
      "676/676 [==============================] - ETA: 0s - loss: 5.5617 - accuracy: 0.0064WARNING:tensorflow:AutoGraph could not transform <function Model.make_test_function.<locals>.test_function at 0x000001A3BF7E8310> and will run it as-is.\n",
      "Please report this to the TensorFlow team. When filing the bug, set the verbosity to 10 (on Linux, `export AUTOGRAPH_VERBOSITY=10`) and attach the full output.\n",
      "Cause: closure mismatch, requested ('self', 'step_function'), but source function had ()\n",
      "To silence this warning, decorate the function with @tf.autograph.experimental.do_not_convert\n",
      "WARNING: AutoGraph could not transform <function Model.make_test_function.<locals>.test_function at 0x000001A3BF7E8310> and will run it as-is.\n",
      "Please report this to the TensorFlow team. When filing the bug, set the verbosity to 10 (on Linux, `export AUTOGRAPH_VERBOSITY=10`) and attach the full output.\n",
      "Cause: closure mismatch, requested ('self', 'step_function'), but source function had ()\n",
      "To silence this warning, decorate the function with @tf.autograph.experimental.do_not_convert\n",
      "676/676 [==============================] - 129s 190ms/step - loss: 5.5617 - accuracy: 0.0064 - val_loss: 5.6831 - val_accuracy: 0.0045\n",
      "Epoch 2/60\n",
      "676/676 [==============================] - 92s 137ms/step - loss: 5.5219 - accuracy: 0.0080 - val_loss: 5.6858 - val_accuracy: 0.0045\n",
      "Epoch 3/60\n",
      "676/676 [==============================] - 107s 159ms/step - loss: 5.4200 - accuracy: 0.0080 - val_loss: 5.7657 - val_accuracy: 0.0120\n",
      "Epoch 4/60\n",
      "676/676 [==============================] - 94s 139ms/step - loss: 5.0553 - accuracy: 0.0152 - val_loss: 5.8128 - val_accuracy: 0.0254\n",
      "Epoch 5/60\n",
      "676/676 [==============================] - 106s 156ms/step - loss: 4.8690 - accuracy: 0.0235 - val_loss: 5.8532 - val_accuracy: 0.0323\n",
      "Epoch 6/60\n",
      "676/676 [==============================] - 105s 155ms/step - loss: 4.7192 - accuracy: 0.0280 - val_loss: 5.8485 - val_accuracy: 0.0416\n",
      "Epoch 7/60\n",
      "676/676 [==============================] - 108s 159ms/step - loss: 4.5878 - accuracy: 0.0365 - val_loss: 5.8016 - val_accuracy: 0.0713\n",
      "Epoch 8/60\n",
      "676/676 [==============================] - 103s 153ms/step - loss: 4.4744 - accuracy: 0.0420 - val_loss: 5.7441 - val_accuracy: 0.0860\n",
      "Epoch 9/60\n",
      "676/676 [==============================] - 108s 159ms/step - loss: 4.3467 - accuracy: 0.0540 - val_loss: 5.8785 - val_accuracy: 0.0882\n",
      "Epoch 10/60\n",
      "676/676 [==============================] - 104s 153ms/step - loss: 4.2477 - accuracy: 0.0639 - val_loss: 5.7750 - val_accuracy: 0.1040\n",
      "Epoch 11/60\n",
      "676/676 [==============================] - 106s 156ms/step - loss: 4.1456 - accuracy: 0.0705 - val_loss: 5.5379 - val_accuracy: 0.1361\n",
      "Epoch 12/60\n",
      "676/676 [==============================] - 113s 167ms/step - loss: 4.0539 - accuracy: 0.0798 - val_loss: 5.5959 - val_accuracy: 0.1263\n",
      "Epoch 13/60\n",
      "676/676 [==============================] - 111s 165ms/step - loss: 3.9988 - accuracy: 0.0831 - val_loss: 5.3905 - val_accuracy: 0.1501\n",
      "Epoch 14/60\n",
      "676/676 [==============================] - 109s 162ms/step - loss: 3.9407 - accuracy: 0.0902 - val_loss: 5.4949 - val_accuracy: 0.1368\n",
      "Epoch 15/60\n",
      "676/676 [==============================] - 100s 148ms/step - loss: 3.8761 - accuracy: 0.0970 - val_loss: 5.7549 - val_accuracy: 0.1444\n",
      "Epoch 16/60\n",
      "676/676 [==============================] - 107s 159ms/step - loss: 3.8163 - accuracy: 0.1035 - val_loss: 5.5425 - val_accuracy: 0.1568\n",
      "Epoch 17/60\n",
      "676/676 [==============================] - 112s 165ms/step - loss: 3.7597 - accuracy: 0.1068 - val_loss: 5.7273 - val_accuracy: 0.1649\n",
      "Epoch 18/60\n",
      "676/676 [==============================] - 112s 166ms/step - loss: 3.7262 - accuracy: 0.1147 - val_loss: 5.8548 - val_accuracy: 0.1408\n",
      "Epoch 19/60\n",
      "676/676 [==============================] - 111s 164ms/step - loss: 3.6772 - accuracy: 0.1202 - val_loss: 5.4374 - val_accuracy: 0.1838\n",
      "Epoch 20/60\n",
      "676/676 [==============================] - 111s 165ms/step - loss: 3.6518 - accuracy: 0.1249 - val_loss: 6.3083 - val_accuracy: 0.1450\n",
      "Epoch 21/60\n",
      "676/676 [==============================] - 115s 170ms/step - loss: 3.6042 - accuracy: 0.1331 - val_loss: 5.5280 - val_accuracy: 0.1945\n",
      "Epoch 22/60\n",
      "676/676 [==============================] - 113s 167ms/step - loss: 3.5670 - accuracy: 0.1375 - val_loss: 5.9984 - val_accuracy: 0.1586\n",
      "Epoch 23/60\n",
      "676/676 [==============================] - 111s 164ms/step - loss: 3.5528 - accuracy: 0.1354 - val_loss: 5.5667 - val_accuracy: 0.2032\n",
      "Epoch 24/60\n",
      "676/676 [==============================] - 108s 160ms/step - loss: 3.5155 - accuracy: 0.1418 - val_loss: 5.4523 - val_accuracy: 0.2143\n",
      "Epoch 25/60\n",
      "676/676 [==============================] - 114s 169ms/step - loss: 3.4699 - accuracy: 0.1475 - val_loss: 5.5666 - val_accuracy: 0.2092\n",
      "Epoch 26/60\n",
      "676/676 [==============================] - 114s 168ms/step - loss: 3.4363 - accuracy: 0.1533 - val_loss: 5.9316 - val_accuracy: 0.2052\n",
      "Epoch 27/60\n",
      "676/676 [==============================] - 96s 142ms/step - loss: 3.4252 - accuracy: 0.1550 - val_loss: 6.0843 - val_accuracy: 0.1809\n",
      "Epoch 28/60\n",
      "676/676 [==============================] - 141s 209ms/step - loss: 3.3994 - accuracy: 0.1571 - val_loss: 5.5540 - val_accuracy: 0.2295\n",
      "Epoch 29/60\n",
      "676/676 [==============================] - 141s 208ms/step - loss: 3.3806 - accuracy: 0.1622 - val_loss: 6.0761 - val_accuracy: 0.1985\n",
      "Epoch 30/60\n",
      "676/676 [==============================] - 133s 196ms/step - loss: 3.3459 - accuracy: 0.1643 - val_loss: 5.6901 - val_accuracy: 0.2366\n",
      "Epoch 31/60\n",
      "676/676 [==============================] - 136s 201ms/step - loss: 3.3360 - accuracy: 0.1681 - val_loss: 6.0429 - val_accuracy: 0.2078\n",
      "Epoch 32/60\n",
      "676/676 [==============================] - 130s 193ms/step - loss: 3.3348 - accuracy: 0.1704 - val_loss: 5.8941 - val_accuracy: 0.2023\n",
      "Epoch 33/60\n",
      "676/676 [==============================] - 130s 192ms/step - loss: 3.3086 - accuracy: 0.1734 - val_loss: 5.6515 - val_accuracy: 0.2359\n",
      "Epoch 34/60\n",
      "676/676 [==============================] - 125s 185ms/step - loss: 3.2858 - accuracy: 0.1782 - val_loss: 5.6647 - val_accuracy: 0.2455\n",
      "Epoch 35/60\n",
      "676/676 [==============================] - 131s 194ms/step - loss: 3.2634 - accuracy: 0.1806 - val_loss: 5.6962 - val_accuracy: 0.2265\n",
      "Epoch 36/60\n",
      "676/676 [==============================] - 118s 175ms/step - loss: 3.2641 - accuracy: 0.1824 - val_loss: 5.8327 - val_accuracy: 0.2417\n",
      "Epoch 37/60\n",
      "676/676 [==============================] - 87s 129ms/step - loss: 3.2366 - accuracy: 0.1849 - val_loss: 6.0691 - val_accuracy: 0.2003\n",
      "Epoch 38/60\n",
      "676/676 [==============================] - 95s 140ms/step - loss: 3.2263 - accuracy: 0.1869 - val_loss: 5.7515 - val_accuracy: 0.2520\n",
      "Epoch 39/60\n",
      "676/676 [==============================] - 125s 185ms/step - loss: 3.2301 - accuracy: 0.1877 - val_loss: 5.7159 - val_accuracy: 0.2181\n",
      "Epoch 40/60\n",
      "676/676 [==============================] - 125s 185ms/step - loss: 3.2169 - accuracy: 0.1918 - val_loss: 5.7396 - val_accuracy: 0.2511\n",
      "Epoch 41/60\n",
      "676/676 [==============================] - 126s 186ms/step - loss: 3.1807 - accuracy: 0.1946 - val_loss: 5.9235 - val_accuracy: 0.2337\n",
      "Epoch 42/60\n",
      "676/676 [==============================] - 122s 181ms/step - loss: 3.1784 - accuracy: 0.2007 - val_loss: 5.8122 - val_accuracy: 0.2208\n",
      "Epoch 43/60\n",
      "676/676 [==============================] - 129s 191ms/step - loss: 3.1542 - accuracy: 0.1996 - val_loss: 5.7705 - val_accuracy: 0.2441\n",
      "Epoch 44/60\n",
      "676/676 [==============================] - 129s 191ms/step - loss: 3.1297 - accuracy: 0.2040 - val_loss: 5.6508 - val_accuracy: 0.2437\n",
      "Epoch 45/60\n",
      "676/676 [==============================] - 127s 188ms/step - loss: 3.1588 - accuracy: 0.1961 - val_loss: 5.6267 - val_accuracy: 0.2304\n",
      "Epoch 46/60\n",
      "676/676 [==============================] - 117s 173ms/step - loss: 3.1271 - accuracy: 0.2022 - val_loss: 6.0585 - val_accuracy: 0.2306\n",
      "Epoch 47/60\n",
      "676/676 [==============================] - 93s 137ms/step - loss: 3.1012 - accuracy: 0.2063 - val_loss: 5.7869 - val_accuracy: 0.2363\n",
      "Epoch 48/60\n",
      "676/676 [==============================] - 94s 139ms/step - loss: 3.0991 - accuracy: 0.2105 - val_loss: 5.6196 - val_accuracy: 0.2602\n",
      "Epoch 49/60\n",
      "676/676 [==============================] - 91s 135ms/step - loss: 3.0864 - accuracy: 0.2111 - val_loss: 5.8660 - val_accuracy: 0.2388\n",
      "Epoch 50/60\n",
      "676/676 [==============================] - 94s 140ms/step - loss: 3.0855 - accuracy: 0.2115 - val_loss: 6.0190 - val_accuracy: 0.2406\n",
      "Epoch 51/60\n",
      "676/676 [==============================] - 94s 139ms/step - loss: 3.0870 - accuracy: 0.2106 - val_loss: 5.9745 - val_accuracy: 0.2210\n",
      "Epoch 52/60\n",
      "676/676 [==============================] - 93s 138ms/step - loss: 3.0754 - accuracy: 0.2149 - val_loss: 5.7859 - val_accuracy: 0.2312\n",
      "Epoch 53/60\n",
      "676/676 [==============================] - 89s 132ms/step - loss: 3.0634 - accuracy: 0.2152 - val_loss: 5.8715 - val_accuracy: 0.2392\n",
      "Epoch 54/60\n",
      "676/676 [==============================] - 90s 133ms/step - loss: 3.0337 - accuracy: 0.2204 - val_loss: 5.7888 - val_accuracy: 0.2404\n",
      "Epoch 55/60\n",
      "676/676 [==============================] - 91s 135ms/step - loss: 3.0411 - accuracy: 0.2161 - val_loss: 5.7795 - val_accuracy: 0.2604\n",
      "Epoch 56/60\n",
      "676/676 [==============================] - 86s 128ms/step - loss: 3.0269 - accuracy: 0.2226 - val_loss: 5.8010 - val_accuracy: 0.2408\n",
      "Epoch 57/60\n",
      "676/676 [==============================] - 87s 128ms/step - loss: 3.0239 - accuracy: 0.2209 - val_loss: 5.7553 - val_accuracy: 0.2727\n",
      "Epoch 58/60\n",
      "676/676 [==============================] - 91s 135ms/step - loss: 3.0221 - accuracy: 0.2239 - val_loss: 5.7278 - val_accuracy: 0.2687\n",
      "Epoch 59/60\n",
      "676/676 [==============================] - 87s 128ms/step - loss: 3.0102 - accuracy: 0.2221 - val_loss: 5.8396 - val_accuracy: 0.2259\n",
      "Epoch 60/60\n",
      "676/676 [==============================] - 88s 130ms/step - loss: 2.9968 - accuracy: 0.2291 - val_loss: 5.7698 - val_accuracy: 0.2597\n"
     ]
    }
   ],
   "source": [
    "# Training the CNN model\n",
    "\n",
    "history = cnn.fit(x=training_set, validation_data=test_set, epochs=60)"
   ]
  },
  {
   "cell_type": "code",
   "execution_count": 61,
   "outputs": [
    {
     "name": "stdout",
     "output_type": "stream",
     "text": [
      "dict_keys(['loss', 'accuracy', 'val_loss', 'val_accuracy'])\n"
     ]
    }
   ],
   "source": [
    "print(history.history.keys())"
   ],
   "metadata": {
    "collapsed": false,
    "pycharm": {
     "name": "#%%\n"
    }
   }
  },
  {
   "cell_type": "code",
   "execution_count": 62,
   "id": "e114aa8b",
   "metadata": {
    "pycharm": {
     "name": "#%%\n"
    }
   },
   "outputs": [
    {
     "data": {
      "text/plain": "<Figure size 432x288 with 1 Axes>",
      "image/png": "[encoded data removed]"
     },
     "metadata": {
      "needs_background": "light"
     },
     "output_type": "display_data"
    }
   ],
   "source": [
    "# Plotting the graph of the Training loss vs Validation over the number of epochs\n",
    "\n",
    "# loss_train = history.history['loss']\n",
    "# loss_val = history.history['val_loss']\n",
    "# epochs = range(1,35)\n",
    "# plt.plot(epochs, loss_train, 'g', label='Training loss')\n",
    "# plt.plot(epochs, loss_val, 'b', label='validation loss')\n",
    "# plt.title('Training and Validation loss')\n",
    "# plt.xlabel('Epochs')\n",
    "# plt.ylabel('Loss')\n",
    "# plt.legend()\n",
    "# plt.show()\n",
    "\n",
    "plt.plot(history.history['loss'])\n",
    "plt.plot(history.history['val_loss'])\n",
    "plt.title('model loss')\n",
    "plt.ylabel('loss')\n",
    "plt.xlabel('epoch')\n",
    "plt.legend(['train', 'test'], loc='upper left')\n",
    "plt.show()"
   ]
  },
  {
   "cell_type": "code",
   "execution_count": 63,
   "outputs": [
    {
     "data": {
      "text/plain": "<Figure size 432x288 with 1 Axes>",
      "image/png": "[encoded data removed]"
     },
     "metadata": {
      "needs_background": "light"
     },
     "output_type": "display_data"
    }
   ],
   "source": [
    "# Plotting the graph of training accuracy vs Validation accuracy over a number of epochs\n",
    "\n",
    "# loss_train = history.history['accuracy']\n",
    "# loss_val = history.history['val_accuracy']\n",
    "# epochs = range(1,11)\n",
    "# plt.plot(epochs, loss_train, 'g', label='Training accuracy')\n",
    "# plt.plot(epochs, loss_val, 'b', label='validation accuracy')\n",
    "# plt.title('Training and Validation accuracy')\n",
    "# plt.xlabel('Epochs')\n",
    "# plt.ylabel('Accuracy')\n",
    "# plt.legend()\n",
    "# plt.show()\n",
    "\n",
    "plt.plot(history.history['accuracy'])\n",
    "plt.plot(history.history['val_accuracy'])\n",
    "plt.title('model accuracy')\n",
    "plt.ylabel('accuracy')\n",
    "plt.xlabel('epoch')\n",
    "plt.legend(['train', 'test'], loc='upper left')\n",
    "plt.show()"
   ],
   "metadata": {
    "collapsed": false,
    "pycharm": {
     "name": "#%%\n"
    }
   }
  }
 ],
 "metadata": {
  "kernelspec": {
   "display_name": "Python 3 (ipykernel)",
   "language": "python",
   "name": "python3"
  },
  "language_info": {
   "codemirror_mode": {
    "name": "ipython",
    "version": 3
   },
   "file_extension": ".py",
   "mimetype": "text/x-python",
   "name": "python",
   "nbconvert_exporter": "python",
   "pygments_lexer": "ipython3",
   "version": "3.9.7"
  }
 },
 "nbformat": 4,
 "nbformat_minor": 5
}