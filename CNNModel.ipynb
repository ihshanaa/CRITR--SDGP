{
 "cells": [
  {
   "cell_type": "code",
   "execution_count": 1,
   "id": "868cc5f7",
   "metadata": {},
   "outputs": [],
   "source": [
    "## Importing the libraries\n",
    "\n",
    "import tensorflow as tf\n",
    "from keras.preprocessing.image import ImageDataGenerator\n",
    "from tensorflow.keras import layers\n",
    "from keras.models import Sequential\n",
    "    \n",
    "    "
   ]
  },
  {
   "cell_type": "code",
   "execution_count": 2,
   "id": "8bcef6d0",
   "metadata": {},
   "outputs": [
    {
     "name": "stdout",
     "output_type": "stream",
     "text": [
      "Found 21612 images belonging to 249 classes.\n"
     ]
    }
   ],
   "source": [
    "## Data Preprocessing\n",
    "\n",
    "# Preprocessing the training set\n",
    "\n",
    "train_datagen = ImageDataGenerator(\n",
    "        rescale=1./255,\n",
    "        shear_range=0.2,\n",
    "        zoom_range=0.2,\n",
    "        horizontal_flip=True)\n",
    "\n",
    "training_set = train_datagen.flow_from_directory(\n",
    "        'dataset/train',\n",
    "        target_size=(64, 64),\n",
    "        batch_size=32,\n",
    "        class_mode='binary')"
   ]
  },
  {
   "cell_type": "code",
   "execution_count": 3,
   "id": "8b2521f0",
   "metadata": {},
   "outputs": [
    {
     "name": "stdout",
     "output_type": "stream",
     "text": [
      "Found 5511 images belonging to 252 classes.\n"
     ]
    }
   ],
   "source": [
    "#Preprocessing the test set\n",
    "\n",
    "test_datagen = ImageDataGenerator(rescale = 1./255)\n",
    "test_set = test_datagen.flow_from_directory('dataset/test',\n",
    "                                            target_size = (64, 64),\n",
    "                                            batch_size = 32,\n",
    "                                            class_mode = 'binary')"
   ]
  },
  {
   "cell_type": "code",
   "execution_count": 4,
   "id": "468ec9b2",
   "metadata": {},
   "outputs": [],
   "source": [
    "## Building the CNN\n",
    "\n",
    "# Initializing the CNN\n",
    "\n",
    "cnn = tf.keras.models.Sequential()\n",
    "\n",
    "\n"
   ]
  },
  {
   "cell_type": "code",
   "execution_count": 5,
   "id": "5255d5e1",
   "metadata": {},
   "outputs": [],
   "source": [
    "# Convolution\n",
    "\n",
    "cnn.add(tf.keras.layers.Conv2D(filters=32, kernel_size=3, activation='relu', input_shape=[64, 64, 3]))"
   ]
  },
  {
   "cell_type": "code",
   "execution_count": 6,
   "id": "7521cb37",
   "metadata": {},
   "outputs": [],
   "source": [
    "# Pooling\n",
    "\n",
    "cnn.add(tf.keras.layers.MaxPool2D(pool_size=2, strides=2))"
   ]
  },
  {
   "cell_type": "code",
   "execution_count": 7,
   "id": "adc06bc0",
   "metadata": {},
   "outputs": [],
   "source": [
    "# Adding more convolusional layers\n",
    "\n",
    "cnn.add(tf.keras.layers.Conv2D(filters=32, kernel_size=3, activation='relu'))\n",
    "\n",
    "cnn.add(tf.keras.layers.MaxPool2D(pool_size=2, strides=2))\n",
    "\n",
    "cnn.add(tf.keras.layers.Conv2D(filters=32, kernel_size=3, activation='relu'))\n",
    "\n",
    "cnn.add(tf.keras.layers.MaxPool2D(pool_size=2, strides=2))\n",
    "\n",
    "cnn.add(tf.keras.layers.Conv2D(filters=32, kernel_size=3, activation='relu'))\n",
    "\n",
    "cnn.add(tf.keras.layers.MaxPool2D(pool_size=2, strides=2))\n",
    "\n",
    "\n",
    "\n"
   ]
  },
  {
   "cell_type": "code",
   "execution_count": 8,
   "id": "211089b1",
   "metadata": {},
   "outputs": [],
   "source": [
    "# Flattening\n",
    "\n",
    "cnn.add(tf.keras.layers.Flatten())"
   ]
  },
  {
   "cell_type": "code",
   "execution_count": 9,
   "id": "b3def02a",
   "metadata": {},
   "outputs": [],
   "source": [
    "# Full Connection\n",
    "\n",
    "cnn.add(tf.keras.layers.Dense(units=128, activation='relu'))"
   ]
  },
  {
   "cell_type": "code",
   "execution_count": 10,
   "id": "e76579e8",
   "metadata": {},
   "outputs": [],
   "source": [
    "# Output Layer\n",
    "\n",
    "cnn.add(tf.keras.layers.Dense(units=1, activation='relu'))"
   ]
  },
  {
   "cell_type": "code",
   "execution_count": 11,
   "id": "85866658",
   "metadata": {},
   "outputs": [],
   "source": [
    "## Training the CNN\n",
    "\n",
    "# Compiling the CNN\n",
    "\n",
    "# cnn.compile(optimizer = 'adam', loss = 'categorical_crossentropy', metrics = ['accuracy'])\n",
    "# cnn.compile(optimizer='adam',\n",
    "#               loss=tf.keras.losses.CategoricalCrossentropy(from_logits=True),\n",
    "#               metrics=['accuracy'])\n",
    "\n",
    "# Training the CNN on the Training set and evaluating it on the Test set\n",
    "\n",
    "# cnn.fit(x = training_set, validation_data = test_set, epochs = 12)"
   ]
  },
  {
   "cell_type": "code",
   "execution_count": 12,
   "id": "15c84951",
   "metadata": {},
   "outputs": [],
   "source": [
    "data_augmentation = tf.keras.Sequential([\n",
    "  layers.RandomFlip(\"horizontal_and_vertical\"),\n",
    "  layers.RandomRotation(0.2),\n",
    "  layers.RandomZoom(0.1),\n",
    "])\n",
    "\n",
    "\n"
   ]
  },
  {
   "cell_type": "code",
   "execution_count": 13,
   "id": "72e84032",
   "metadata": {},
   "outputs": [],
   "source": [
    "model = Sequential([\n",
    "  data_augmentation,\n",
    "  layers.Conv2D(32, 3, padding='same', activation='relu'),\n",
    "  layers.MaxPooling2D(),\n",
    "  layers.Conv2D(32, 3, padding='same', activation='relu'),\n",
    "  layers.MaxPooling2D(),\n",
    "  layers.Conv2D(32, 3, padding='same', activation='relu'),\n",
    "  layers.MaxPooling2D(),\n",
    "  layers.Dropout(0.2),\n",
    "  layers.Flatten(),\n",
    "  layers.Dense(128, activation='relu'),\n",
    "  layers.Dense(1, activation='relu')\n",
    "])\n"
   ]
  },
  {
   "cell_type": "code",
   "execution_count": 14,
   "id": "0689118a",
   "metadata": {},
   "outputs": [],
   "source": [
    "cnn.compile(optimizer = 'adam', loss = 'categorical_crossentropy', metrics = ['accuracy'])"
   ]
  },
  {
   "cell_type": "code",
   "execution_count": 15,
   "id": "c7457a41",
   "metadata": {
    "scrolled": true
   },
   "outputs": [
    {
     "name": "stdout",
     "output_type": "stream",
     "text": [
      "Epoch 1/35\n",
      "676/676 [==============================] - 126s 185ms/step - loss: 1.3930e-05 - accuracy: 0.0045 - val_loss: 1.4434e-05 - val_accuracy: 0.0045\n",
      "Epoch 2/35\n",
      "676/676 [==============================] - 116s 171ms/step - loss: 1.3930e-05 - accuracy: 0.0045 - val_loss: 1.4434e-05 - val_accuracy: 0.0045\n",
      "Epoch 3/35\n",
      "676/676 [==============================] - 112s 165ms/step - loss: 1.3930e-05 - accuracy: 0.0045 - val_loss: 1.4434e-05 - val_accuracy: 0.0045\n",
      "Epoch 4/35\n",
      "676/676 [==============================] - 111s 165ms/step - loss: 1.3930e-05 - accuracy: 0.0045 - val_loss: 1.4434e-05 - val_accuracy: 0.0045\n",
      "Epoch 5/35\n",
      "676/676 [==============================] - 116s 171ms/step - loss: 1.3930e-05 - accuracy: 0.0045 - val_loss: 1.4434e-05 - val_accuracy: 0.0045\n",
      "Epoch 6/35\n",
      "676/676 [==============================] - 115s 169ms/step - loss: 1.3930e-05 - accuracy: 0.0045 - val_loss: 1.4434e-05 - val_accuracy: 0.0045\n",
      "Epoch 7/35\n",
      "676/676 [==============================] - 111s 164ms/step - loss: 1.3930e-05 - accuracy: 0.0045 - val_loss: 1.4434e-05 - val_accuracy: 0.0045\n",
      "Epoch 8/35\n",
      "676/676 [==============================] - 113s 167ms/step - loss: 1.3930e-05 - accuracy: 0.0045 - val_loss: 1.4434e-05 - val_accuracy: 0.0045\n",
      "Epoch 9/35\n",
      "676/676 [==============================] - 118s 175ms/step - loss: 1.3930e-05 - accuracy: 0.0045 - val_loss: 1.4434e-05 - val_accuracy: 0.0045\n",
      "Epoch 10/35\n",
      "676/676 [==============================] - 107s 159ms/step - loss: 1.3930e-05 - accuracy: 0.0045 - val_loss: 1.4434e-05 - val_accuracy: 0.0045\n",
      "Epoch 11/35\n",
      "676/676 [==============================] - 123s 182ms/step - loss: 1.3930e-05 - accuracy: 0.0045 - val_loss: 1.4434e-05 - val_accuracy: 0.0045\n",
      "Epoch 12/35\n",
      "676/676 [==============================] - 124s 184ms/step - loss: 1.3930e-05 - accuracy: 0.0045 - val_loss: 1.4434e-05 - val_accuracy: 0.0045\n",
      "Epoch 13/35\n",
      "676/676 [==============================] - 140s 207ms/step - loss: 1.3930e-05 - accuracy: 0.0045 - val_loss: 1.4434e-05 - val_accuracy: 0.0045\n",
      "Epoch 14/35\n",
      "676/676 [==============================] - 125s 185ms/step - loss: 1.3930e-05 - accuracy: 0.0045 - val_loss: 1.4434e-05 - val_accuracy: 0.0045\n",
      "Epoch 15/35\n",
      "676/676 [==============================] - 118s 175ms/step - loss: 1.3930e-05 - accuracy: 0.0045 - val_loss: 1.4434e-05 - val_accuracy: 0.0045\n",
      "Epoch 16/35\n",
      "676/676 [==============================] - 118s 174ms/step - loss: 1.3930e-05 - accuracy: 0.0045 - val_loss: 1.4434e-05 - val_accuracy: 0.0045\n",
      "Epoch 17/35\n",
      "676/676 [==============================] - 115s 171ms/step - loss: 1.3930e-05 - accuracy: 0.0045 - val_loss: 1.4434e-05 - val_accuracy: 0.0045\n",
      "Epoch 18/35\n",
      "676/676 [==============================] - 118s 174ms/step - loss: 1.3930e-05 - accuracy: 0.0045 - val_loss: 1.4434e-05 - val_accuracy: 0.0045\n",
      "Epoch 19/35\n",
      "676/676 [==============================] - 112s 165ms/step - loss: 1.3930e-05 - accuracy: 0.0045 - val_loss: 1.4434e-05 - val_accuracy: 0.0045\n",
      "Epoch 20/35\n",
      "676/676 [==============================] - 108s 160ms/step - loss: 1.3930e-05 - accuracy: 0.0045 - val_loss: 1.4434e-05 - val_accuracy: 0.0045\n",
      "Epoch 21/35\n",
      "676/676 [==============================] - 109s 162ms/step - loss: 1.3930e-05 - accuracy: 0.0045 - val_loss: 1.4434e-05 - val_accuracy: 0.0045\n",
      "Epoch 22/35\n",
      "676/676 [==============================] - 110s 162ms/step - loss: 1.3930e-05 - accuracy: 0.0045 - val_loss: 1.4434e-05 - val_accuracy: 0.0045\n",
      "Epoch 23/35\n",
      "676/676 [==============================] - 111s 164ms/step - loss: 1.3930e-05 - accuracy: 0.0045 - val_loss: 1.4434e-05 - val_accuracy: 0.0045\n",
      "Epoch 24/35\n",
      "676/676 [==============================] - 110s 162ms/step - loss: 1.3930e-05 - accuracy: 0.0045 - val_loss: 1.4434e-05 - val_accuracy: 0.0045\n",
      "Epoch 25/35\n",
      "676/676 [==============================] - 109s 161ms/step - loss: 1.3930e-05 - accuracy: 0.0045 - val_loss: 1.4434e-05 - val_accuracy: 0.0045\n",
      "Epoch 26/35\n",
      "676/676 [==============================] - 111s 164ms/step - loss: 1.3930e-05 - accuracy: 0.0045 - val_loss: 1.4434e-05 - val_accuracy: 0.0045\n",
      "Epoch 27/35\n",
      "676/676 [==============================] - 110s 162ms/step - loss: 1.3930e-05 - accuracy: 0.0045 - val_loss: 1.4434e-05 - val_accuracy: 0.0045\n",
      "Epoch 28/35\n",
      "676/676 [==============================] - 107s 158ms/step - loss: 1.3930e-05 - accuracy: 0.0045 - val_loss: 1.4434e-05 - val_accuracy: 0.0045\n",
      "Epoch 29/35\n",
      "676/676 [==============================] - 109s 162ms/step - loss: 1.3930e-05 - accuracy: 0.0045 - val_loss: 1.4434e-05 - val_accuracy: 0.0045\n",
      "Epoch 30/35\n",
      "676/676 [==============================] - 120s 177ms/step - loss: 1.3930e-05 - accuracy: 0.0045 - val_loss: 1.4434e-05 - val_accuracy: 0.0045\n",
      "Epoch 31/35\n",
      "676/676 [==============================] - 117s 172ms/step - loss: 1.3930e-05 - accuracy: 0.0045 - val_loss: 1.4434e-05 - val_accuracy: 0.0045\n",
      "Epoch 32/35\n",
      "676/676 [==============================] - 115s 169ms/step - loss: 1.3930e-05 - accuracy: 0.0045 - val_loss: 1.4434e-05 - val_accuracy: 0.0045\n",
      "Epoch 33/35\n",
      "676/676 [==============================] - 89s 131ms/step - loss: 1.3930e-05 - accuracy: 0.0045 - val_loss: 1.4434e-05 - val_accuracy: 0.0045\n",
      "Epoch 34/35\n",
      "676/676 [==============================] - 82s 121ms/step - loss: 1.3930e-05 - accuracy: 0.0045 - val_loss: 1.4434e-05 - val_accuracy: 0.0045\n",
      "Epoch 35/35\n",
      "676/676 [==============================] - 82s 122ms/step - loss: 1.3930e-05 - accuracy: 0.0045 - val_loss: 1.4434e-05 - val_accuracy: 0.0045\n"
     ]
    },
    {
     "data": {
      "text/plain": [
       "<keras.callbacks.History at 0x1f420b94a90>"
      ]
     },
     "execution_count": 15,
     "metadata": {},
     "output_type": "execute_result"
    }
   ],
   "source": [
    "cnn.fit(x = training_set, validation_data = test_set, epochs = 35)"
   ]
  },
  {
   "cell_type": "code",
   "execution_count": 16,
   "id": "e114aa8b",
   "metadata": {},
   "outputs": [
    {
     "name": "stdout",
     "output_type": "stream",
     "text": [
      "ආ\n"
     ]
    }
   ],
   "source": [
    "import numpy as np\n",
    "from keras.preprocessing import image\n",
    "test_image = image.load_img('dataset/test/a/a.png', target_size = (64, 64))\n",
    "test_image = image.img_to_array(test_image)\n",
    "test_image = np.expand_dims(test_image, axis = 0)\n",
    "result = cnn.predict(test_image, batch_size=1)\n",
    "training_set.class_indices\n",
    "if result[0][0] == 1:\n",
    "  prediction = 'අ'\n",
    "else:\n",
    "  prediction = 'ආ'\n",
    "print(prediction)"
   ]
  },
  {
   "cell_type": "code",
   "execution_count": null,
   "id": "8d44faf2",
   "metadata": {},
   "outputs": [],
   "source": []
  }
 ],
 "metadata": {
  "kernelspec": {
   "display_name": "Python 3 (ipykernel)",
   "language": "python",
   "name": "python3"
  },
  "language_info": {
   "codemirror_mode": {
    "name": "ipython",
    "version": 3
   },
   "file_extension": ".py",
   "mimetype": "text/x-python",
   "name": "python",
   "nbconvert_exporter": "python",
   "pygments_lexer": "ipython3",
   "version": "3.9.7"
  }
 },
 "nbformat": 4,
 "nbformat_minor": 5
}
