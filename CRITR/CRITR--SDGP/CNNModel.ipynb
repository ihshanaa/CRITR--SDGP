{
 "cells": [
  {
   "cell_type": "code",
   "execution_count": 1,
   "id": "868cc5f7",
   "metadata": {},
   "outputs": [],
   "source": [
    "## Importing the libraries\n",
    "\n",
    "import tensorflow as tf\n",
    "from keras.preprocessing.image import ImageDataGenerator"
   ]
  },
  {
   "cell_type": "code",
   "execution_count": null,
   "id": "922fe278",
   "metadata": {},
   "outputs": [],
   "source": []
  },
  {
   "cell_type": "code",
   "execution_count": 2,
   "id": "8bcef6d0",
   "metadata": {},
   "outputs": [
    {
     "name": "stdout",
     "output_type": "stream",
     "text": [
      "Found 183 images belonging to 2 classes.\n"
     ]
    }
   ],
   "source": [
    "## Data Preprocessing\n",
    "\n",
    "# Preprocessing the training set\n",
    "\n",
    "train_datagen = ImageDataGenerator(\n",
    "        rescale=1./255,\n",
    "        shear_range=0.2,\n",
    "        zoom_range=0.2,\n",
    "        horizontal_flip=True)\n",
    "\n",
    "training_set = train_datagen.flow_from_directory(\n",
    "        'dataset/train',\n",
    "        target_size=(64, 64),\n",
    "        batch_size=32,\n",
    "        class_mode='binary')"
   ]
  },
  {
   "cell_type": "code",
   "execution_count": 3,
   "id": "8b2521f0",
   "metadata": {},
   "outputs": [
    {
     "name": "stdout",
     "output_type": "stream",
     "text": [
      "Found 182 images belonging to 2 classes.\n"
     ]
    }
   ],
   "source": [
    "#Preprocessing the test set\n",
    "\n",
    "test_datagen = ImageDataGenerator(rescale = 1./255)\n",
    "test_set = test_datagen.flow_from_directory('dataset/test',\n",
    "                                            target_size = (64, 64),\n",
    "                                            batch_size = 32,\n",
    "                                            class_mode = 'binary')"
   ]
  },
  {
   "cell_type": "code",
   "execution_count": 4,
   "id": "468ec9b2",
   "metadata": {},
   "outputs": [],
   "source": [
    "## Building the CNN\n",
    "\n",
    "# Initializing the CNN\n",
    "\n",
    "cnn = tf.keras.models.Sequential()\n",
    "\n",
    "\n"
   ]
  },
  {
   "cell_type": "code",
   "execution_count": 5,
   "id": "5255d5e1",
   "metadata": {},
   "outputs": [],
   "source": [
    "# Convolution\n",
    "\n",
    "cnn.add(tf.keras.layers.Conv2D(filters=32, kernel_size=3, activation='relu', input_shape=[64, 64, 3]))"
   ]
  },
  {
   "cell_type": "code",
   "execution_count": 6,
   "id": "7521cb37",
   "metadata": {},
   "outputs": [],
   "source": [
    "# Pooling\n",
    "\n",
    "cnn.add(tf.keras.layers.MaxPool2D(pool_size=2, strides=2))"
   ]
  },
  {
   "cell_type": "code",
   "execution_count": 7,
   "id": "adc06bc0",
   "metadata": {},
   "outputs": [],
   "source": [
    "# Adding more convolusional layers\n",
    "\n",
    "cnn.add(tf.keras.layers.Conv2D(filters=32, kernel_size=3, activation='relu'))\n",
    "\n",
    "cnn.add(tf.keras.layers.MaxPool2D(pool_size=2, strides=2))\n",
    "\n",
    "cnn.add(tf.keras.layers.Conv2D(filters=32, kernel_size=3, activation='relu'))\n",
    "\n",
    "cnn.add(tf.keras.layers.MaxPool2D(pool_size=2, strides=2))\n",
    "\n",
    "cnn.add(tf.keras.layers.Conv2D(filters=32, kernel_size=3, activation='relu'))\n",
    "\n",
    "cnn.add(tf.keras.layers.MaxPool2D(pool_size=2, strides=2))"
   ]
  },
  {
   "cell_type": "code",
   "execution_count": 8,
   "id": "211089b1",
   "metadata": {},
   "outputs": [],
   "source": [
    "# Flattening\n",
    "\n",
    "cnn.add(tf.keras.layers.Flatten())"
   ]
  },
  {
   "cell_type": "code",
   "execution_count": 9,
   "id": "b3def02a",
   "metadata": {},
   "outputs": [],
   "source": [
    "# Full Connection\n",
    "\n",
    "cnn.add(tf.keras.layers.Dense(units=128, activation='relu'))"
   ]
  },
  {
   "cell_type": "code",
   "execution_count": 10,
   "id": "e76579e8",
   "metadata": {},
   "outputs": [],
   "source": [
    "# Output Layer\n",
    "\n",
    "cnn.add(tf.keras.layers.Dense(units=1, activation='softmax'))"
   ]
  },
  {
   "cell_type": "code",
   "execution_count": 11,
   "id": "85866658",
   "metadata": {},
   "outputs": [
    {
     "name": "stdout",
     "output_type": "stream",
     "text": [
      "Epoch 1/25\n",
      "6/6 [==============================] - 3s 340ms/step - loss: 0.0000e+00 - accuracy: 0.3279 - val_loss: 0.0000e+00 - val_accuracy: 0.3352\n",
      "Epoch 2/25\n",
      "6/6 [==============================] - 3s 601ms/step - loss: 0.0000e+00 - accuracy: 0.3279 - val_loss: 0.0000e+00 - val_accuracy: 0.3352\n",
      "Epoch 3/25\n",
      "6/6 [==============================] - 4s 632ms/step - loss: 0.0000e+00 - accuracy: 0.3279 - val_loss: 0.0000e+00 - val_accuracy: 0.3352\n",
      "Epoch 4/25\n",
      "6/6 [==============================] - 2s 385ms/step - loss: 0.0000e+00 - accuracy: 0.3279 - val_loss: 0.0000e+00 - val_accuracy: 0.3352\n",
      "Epoch 5/25\n",
      "6/6 [==============================] - 2s 330ms/step - loss: 0.0000e+00 - accuracy: 0.3279 - val_loss: 0.0000e+00 - val_accuracy: 0.3352\n",
      "Epoch 6/25\n",
      "6/6 [==============================] - 2s 340ms/step - loss: 0.0000e+00 - accuracy: 0.3279 - val_loss: 0.0000e+00 - val_accuracy: 0.3352\n",
      "Epoch 7/25\n",
      "6/6 [==============================] - 2s 373ms/step - loss: 0.0000e+00 - accuracy: 0.3279 - val_loss: 0.0000e+00 - val_accuracy: 0.3352\n",
      "Epoch 8/25\n",
      "6/6 [==============================] - 2s 404ms/step - loss: 0.0000e+00 - accuracy: 0.3279 - val_loss: 0.0000e+00 - val_accuracy: 0.3352\n",
      "Epoch 9/25\n",
      "6/6 [==============================] - 3s 549ms/step - loss: 0.0000e+00 - accuracy: 0.3279 - val_loss: 0.0000e+00 - val_accuracy: 0.3352\n",
      "Epoch 10/25\n",
      "6/6 [==============================] - 3s 416ms/step - loss: 0.0000e+00 - accuracy: 0.3279 - val_loss: 0.0000e+00 - val_accuracy: 0.3352\n",
      "Epoch 11/25\n",
      "6/6 [==============================] - 2s 322ms/step - loss: 0.0000e+00 - accuracy: 0.3279 - val_loss: 0.0000e+00 - val_accuracy: 0.3352\n",
      "Epoch 12/25\n",
      "6/6 [==============================] - 2s 418ms/step - loss: 0.0000e+00 - accuracy: 0.3279 - val_loss: 0.0000e+00 - val_accuracy: 0.3352\n",
      "Epoch 13/25\n",
      "6/6 [==============================] - 2s 346ms/step - loss: 0.0000e+00 - accuracy: 0.3279 - val_loss: 0.0000e+00 - val_accuracy: 0.3352\n",
      "Epoch 14/25\n",
      "6/6 [==============================] - 3s 434ms/step - loss: 0.0000e+00 - accuracy: 0.3279 - val_loss: 0.0000e+00 - val_accuracy: 0.3352\n",
      "Epoch 15/25\n",
      "6/6 [==============================] - 3s 532ms/step - loss: 0.0000e+00 - accuracy: 0.3279 - val_loss: 0.0000e+00 - val_accuracy: 0.3352\n",
      "Epoch 16/25\n",
      "6/6 [==============================] - 3s 498ms/step - loss: 0.0000e+00 - accuracy: 0.3279 - val_loss: 0.0000e+00 - val_accuracy: 0.3352\n",
      "Epoch 17/25\n",
      "6/6 [==============================] - 2s 301ms/step - loss: 0.0000e+00 - accuracy: 0.3279 - val_loss: 0.0000e+00 - val_accuracy: 0.3352\n",
      "Epoch 18/25\n",
      "6/6 [==============================] - 2s 332ms/step - loss: 0.0000e+00 - accuracy: 0.3279 - val_loss: 0.0000e+00 - val_accuracy: 0.3352\n",
      "Epoch 19/25\n",
      "6/6 [==============================] - 2s 436ms/step - loss: 0.0000e+00 - accuracy: 0.3279 - val_loss: 0.0000e+00 - val_accuracy: 0.3352\n",
      "Epoch 20/25\n",
      "6/6 [==============================] - 2s 365ms/step - loss: 0.0000e+00 - accuracy: 0.3279 - val_loss: 0.0000e+00 - val_accuracy: 0.3352\n",
      "Epoch 21/25\n",
      "6/6 [==============================] - 3s 558ms/step - loss: 0.0000e+00 - accuracy: 0.3279 - val_loss: 0.0000e+00 - val_accuracy: 0.3352\n",
      "Epoch 22/25\n",
      "6/6 [==============================] - 3s 552ms/step - loss: 0.0000e+00 - accuracy: 0.3279 - val_loss: 0.0000e+00 - val_accuracy: 0.3352\n",
      "Epoch 23/25\n",
      "6/6 [==============================] - 2s 339ms/step - loss: 0.0000e+00 - accuracy: 0.3279 - val_loss: 0.0000e+00 - val_accuracy: 0.3352\n",
      "Epoch 24/25\n",
      "6/6 [==============================] - 2s 291ms/step - loss: 0.0000e+00 - accuracy: 0.3279 - val_loss: 0.0000e+00 - val_accuracy: 0.3352\n",
      "Epoch 25/25\n",
      "6/6 [==============================] - 2s 335ms/step - loss: 0.0000e+00 - accuracy: 0.3279 - val_loss: 0.0000e+00 - val_accuracy: 0.3352\n"
     ]
    },
    {
     "data": {
      "text/plain": [
       "<keras.callbacks.History at 0x242ef32da60>"
      ]
     },
     "execution_count": 11,
     "metadata": {},
     "output_type": "execute_result"
    }
   ],
   "source": [
    "## Training the CNN\n",
    "\n",
    "# Compiling the CNN\n",
    "\n",
    "cnn.compile(optimizer = 'adam', loss = 'categorical_crossentropy', metrics = ['accuracy'])\n",
    "\n",
    "# Training the CNN on the Training set and evaluating it on the Test set\n",
    "\n",
    "cnn.fit(x = training_set, validation_data = test_set, epochs = 25)"
   ]
  },
  {
   "cell_type": "code",
   "execution_count": 12,
   "id": "2ded05b6",
   "metadata": {},
   "outputs": [],
   "source": [
    "## Making a single prediction\n",
    "\n",
    "## Tested with two characters only\n",
    "\n",
    "import numpy as np\n",
    "from keras.preprocessing import image\n",
    "test_image = image.load_img('dataset/test/ayanna/a22.jpg', target_size = (64, 64))\n",
    "test_image = image.img_to_array(test_image)\n",
    "test_image = np.expand_dims(test_image, axis = 0)\n",
    "result = cnn.predict(test_image)\n",
    "training_set.class_indices\n",
    "if result[0][0] == 1:\n",
    "  prediction = 'අ'\n",
    "else:\n",
    "  prediction = 'ආ'\n"
   ]
  },
  {
   "cell_type": "code",
   "execution_count": 13,
   "id": "b8d225b3",
   "metadata": {},
   "outputs": [
    {
     "name": "stdout",
     "output_type": "stream",
     "text": [
      "අ\n"
     ]
    }
   ],
   "source": [
    "print(prediction)"
   ]
  },
  {
   "cell_type": "code",
   "execution_count": null,
   "id": "15c84951",
   "metadata": {},
   "outputs": [],
   "source": []
  },
  {
   "cell_type": "code",
   "execution_count": null,
   "id": "dfbe6bb1",
   "metadata": {},
   "outputs": [],
   "source": []
  }
 ],
 "metadata": {
  "kernelspec": {
   "display_name": "Python 3 (ipykernel)",
   "language": "python",
   "name": "python3"
  },
  "language_info": {
   "codemirror_mode": {
    "name": "ipython",
    "version": 3
   },
   "file_extension": ".py",
   "mimetype": "text/x-python",
   "name": "python",
   "nbconvert_exporter": "python",
   "pygments_lexer": "ipython3",
   "version": "3.9.7"
  }
 },
 "nbformat": 4,
 "nbformat_minor": 5
}
